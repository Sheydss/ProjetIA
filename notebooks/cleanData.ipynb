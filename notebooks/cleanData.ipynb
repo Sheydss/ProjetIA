{
 "cells": [
  {
   "cell_type": "code",
   "execution_count": 1,
   "metadata": {},
   "outputs": [],
   "source": [
    "import numpy as np\n",
    "import pandas as pd\n",
    "import matplotlib.pyplot as plt\n",
    "import seaborn as sns\n",
    "import warnings\n",
    "import tarfile\n",
    "import os\n",
    "import sys\n",
    "sys.path.append(os.path.abspath(\"..\"))\n",
    "from modules.data_import import loadData\n",
    "\n",
    "general, employeeSurvey, managerSurvey, inTime, outTime = loadData()"
   ]
  },
  {
   "cell_type": "code",
   "execution_count": 2,
   "metadata": {},
   "outputs": [
    {
     "name": "stdout",
     "output_type": "stream",
     "text": [
      "13.0\n",
      "New Shape:  (4410, 24)\n"
     ]
    }
   ],
   "source": [
    "general .columns = column_name\n",
    "general .head()\n",
    "print(\"Old Shape: \", general.shape)\n",
    "# IQR\n",
    "# Calculate the upper and lower limits\n",
    "Q1 = general['Age'].quantile(0.25)\n",
    "Q3 = general['Age'].quantile(0.75)\n",
    "IQR = Q3 - Q1\n",
    "print(IQR)\n",
    "lower = Q1 - 1.5*IQR\n",
    "upper = Q3 + 1.5*IQR\n",
    "\n",
    "# Create arrays of Boolean values indicating the outlier rows\n",
    "upper_array = np.where(general['Age'] >= upper)[0]\n",
    "lower_array = np.where(general['Age'] <= lower)[0]\n",
    "\n",
    "# Removing the outliers\n",
    "general.drop(index=upper_array, inplace=True)\n",
    "general.drop(index=lower_array, inplace=True)\n",
    "\n",
    "# Print the new shape of the DataFrame\n",
    "print(\"New Shape: \", general.shape)"
   ]
  },
  {
   "cell_type": "markdown",
   "metadata": {},
   "source": [
    "### Handling Outliers"
   ]
  },
  {
   "cell_type": "code",
   "execution_count": 17,
   "metadata": {},
   "outputs": [],
   "source": [
    "general_limit_value = {\n",
    "    \"Education\" : (1,5),\n",
    "    \"EmployeeCount\" : (0,1),\n",
    "    \"JobLevel\" : (1,5)\n",
    "}\n",
    "employee_limit_value = {\n",
    "    \"EnvironmentSatisfaction\" : (1,4),\n",
    "    \"JobSatisfaction\" : (1,4),\n",
    "    \"WorkLifeBalance\" : (1,4)\n",
    "}\n",
    "manager_limit_value = {\n",
    "    \"JobInvolvement\" : (1,4),\n",
    "    \"PerformanceRating\" : (1,4)\n",
    "}\n",
    "\n",
    "for column,(min_val,max_val) in general_limit_value.items() :\n",
    "    general = general[(general[column] >= min_val) & (general[column] <= max_val)]\n",
    "\n",
    "for column,(min_val,max_val) in employee_limit_value.items() :\n",
    "    employeeSurvey = employeeSurvey[(employeeSurvey[column] >= min_val) & (employeeSurvey[column] <= max_val)]\n",
    "\n",
    "for column,(min_val,max_val) in manager_limit_value.items() :\n",
    "    managerSurvey = managerSurvey[(managerSurvey[column] >= min_val) & (managerSurvey[column] <= max_val)]\n"
   ]
  },
  {
   "cell_type": "markdown",
   "metadata": {},
   "source": [
    "### Handling Missing Data"
   ]
  },
  {
   "cell_type": "code",
   "execution_count": 52,
   "metadata": {},
   "outputs": [],
   "source": [
    "import missingno as msno\n",
    "\n",
    "# Visualize missing data\n",
    "#msno.matrix(housing_data)\n",
    "#plt.show()\n",
    "\n",
    "data_files = [general, employeeSurvey, managerSurvey, inTime, outTime]\n",
    "\n",
    "# Impute missing values\n",
    "# For numerical columns, use median imputation\n",
    "for file in data_files:\n",
    "    numerical_columns = file.select_dtypes(include=['float64', 'int64']).columns\n",
    "    file[numerical_columns] = file[numerical_columns].fillna(file[numerical_columns].median())\n",
    "\n",
    "    # For categorical columns, use mode imputation\n",
    "    categorical_columns = file.select_dtypes(include=['object']).columns\n",
    "    v = file[categorical_columns]\n",
    "    va = v.mode()\n",
    "    va\n",
    "    #var = va.iloc[0]\n",
    "    #file[categorical_columns] = file[categorical_columns].fillna(var)\n",
    "\n",
    "    # Verify that there are no more missing values\n",
    "    #print(file.isnull().sum())\n"
   ]
  },
  {
   "cell_type": "markdown",
   "metadata": {},
   "source": [
    "### Export Data"
   ]
  },
  {
   "cell_type": "code",
   "execution_count": 15,
   "metadata": {},
   "outputs": [],
   "source": [
    "import sys\n",
    "import os\n",
    "\n",
    "# Ajouter le chemin du projet au PATH\n",
    "sys.path.append(os.path.abspath(\"..\"))\n",
    "\n",
    "from modules.data_import import exportDataCSV\n",
    "\n",
    "exportDataCSV(general)"
   ]
  }
 ],
 "metadata": {
  "kernelspec": {
   "display_name": "env",
   "language": "python",
   "name": "env"
  },
  "language_info": {
   "codemirror_mode": {
    "name": "ipython",
    "version": 3
   },
   "file_extension": ".py",
   "mimetype": "text/x-python",
   "name": "python",
   "nbconvert_exporter": "python",
   "pygments_lexer": "ipython3",
   "version": "3.13.0"
  }
 },
 "nbformat": 4,
 "nbformat_minor": 2
}
